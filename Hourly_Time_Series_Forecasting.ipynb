{
 "cells": [
  {
   "cell_type": "code",
   "execution_count": 1,
   "id": "fd03134b",
   "metadata": {},
   "outputs": [],
   "source": [
    "import pandas as pd\n",
    "import numpy as np\n",
    "import matplotlib.pyplot as plt\n",
    "from datetime import datetime\n",
    "import seaborn as sns\n",
    "from prophet import Prophet\n",
    "from prophet.diagnostics import cross_validation\n",
    "import itertools\n",
    "from prophet.diagnostics import performance_metrics\n",
    "\n",
    "bus_data = pd.read_csv(\"municipality_bus_utilization.csv\", parse_dates= ['timestamp'])"
   ]
  },
  {
   "cell_type": "code",
   "execution_count": 2,
   "id": "dba7755c",
   "metadata": {},
   "outputs": [],
   "source": [
    "bus_data.isna().sum()"
   ]
  },
  {
   "cell_type": "code",
   "execution_count": 3,
   "id": "92b03ac6",
   "metadata": {},
   "outputs": [],
   "source": [
    "bus_data1 = bus_data[(bus_data['municipality_id'] == 0)]"
   ]
  },
  {
   "cell_type": "code",
   "execution_count": 5,
   "id": "86ed2ac5",
   "metadata": {},
   "outputs": [],
   "source": [
    "bus_data1"
   ]
  },
  {
   "cell_type": "code",
   "execution_count": 7,
   "id": "cdcc1041",
   "metadata": {},
   "outputs": [],
   "source": [
    "plt.plot(bus_data1.timestamp, bus_data1.usage)\n",
    "plt.xticks(rotation=30, ha='right')\n",
    " \n",
    "plt.title('Usage of Municipality 0')\n",
    " \n",
    "plt.xlabel('Date')\n",
    "plt.ylabel('Usage')\n",
    "plt.figure(figsize=(650, 2))\n",
    "plt.tight_layout()\n",
    "plt.show()"
   ]
  },
  {
   "cell_type": "code",
   "execution_count": 8,
   "id": "85796031",
   "metadata": {},
   "outputs": [],
   "source": [
    "tot_readings = 1307 # total number of rows in your df\n",
    "# find max per hour:\n",
    "records_per_dt = 2\n",
    "max_values_per_dt = pd.DataFrame({}) # final data frame where to store maxs and times\n",
    "for h in np.arange(0, tot_readings, records_per_dt):\n",
    "    df_sliced = bus_data1[h:h+records_per_dt] # takes only minutes_per_dt rows starting from h\n",
    "    tmp_max = pd.DataFrame(df_sliced.max()).transpose() # here you have a row with the time and the max values for the current hour analysed in the loop\n",
    "    max_values_per_dt = max_values_per_dt.append(tmp_max) # append the maxs and the times into your final dataframe"
   ]
  },
  {
   "cell_type": "code",
   "execution_count": 9,
   "id": "0705a6ea",
   "metadata": {},
   "outputs": [],
   "source": [
    "max_values_per_dt"
   ]
  },
  {
   "cell_type": "code",
   "execution_count": 10,
   "id": "8ede7cd2",
   "metadata": {},
   "outputs": [],
   "source": [
    "plt.plot(max_values_per_dt.timestamp, max_values_per_dt.usage)\n",
    "plt.xticks(rotation=30, ha='right')\n",
    " \n",
    "plt.title('Usage of Municipality 0')\n",
    " \n",
    "plt.xlabel('Date')\n",
    "plt.ylabel('Usage')\n",
    "plt.figure(figsize=(6, 1))\n",
    "plt.tight_layout()\n",
    "plt.show()"
   ]
  },
  {
   "cell_type": "code",
   "execution_count": 12,
   "id": "2263dafd",
   "metadata": {},
   "outputs": [],
   "source": [
    "max_values_per_dt['timestamp'] =  pd.to_datetime(max_values_per_dt['timestamp'], format='%Y-%m-%d %H:%M:%S', errors='coerce')"
   ]
  },
  {
   "cell_type": "code",
   "execution_count": 13,
   "id": "f9a72be7",
   "metadata": {},
   "outputs": [],
   "source": [
    "max_values_per_dt.dtypes"
   ]
  },
  {
   "cell_type": "code",
   "execution_count": 14,
   "id": "bfa6282c",
   "metadata": {},
   "outputs": [],
   "source": [
    "max_values_per_dt.isna().sum()"
   ]
  },
  {
   "cell_type": "code",
   "execution_count": 16,
   "id": "ef0a1dd6",
   "metadata": {
    "scrolled": true
   },
   "outputs": [],
   "source": [
    "max_values_per_dt.isna().sum()"
   ]
  },
  {
   "cell_type": "code",
   "execution_count": 17,
   "id": "137951d5",
   "metadata": {},
   "outputs": [],
   "source": [
    "max_values_per_dt['year']=max_values_per_dt.timestamp.dt.year\n",
    "max_values_per_dt['month']=max_values_per_dt.timestamp.dt.month \n",
    "max_values_per_dt['day']=max_values_per_dt.timestamp.dt.day    \n",
    "max_values_per_dt['Hour']=max_values_per_dt.timestamp.dt.hour"
   ]
  },
  {
   "cell_type": "code",
   "execution_count": 18,
   "id": "0e7c8fea",
   "metadata": {},
   "outputs": [],
   "source": [
    "def applyer(row):\n",
    "    if row.dayofweek == 5 or row.dayofweek == 6:\n",
    "        return 1\n",
    "    else:\n",
    "        return 0\n",
    "temp2 = max_values_per_dt['timestamp'].apply(applyer) \n",
    "max_values_per_dt['weekend']=temp2"
   ]
  },
  {
   "cell_type": "code",
   "execution_count": 19,
   "id": "592c2a43",
   "metadata": {},
   "outputs": [],
   "source": [
    "max_values_per_dt.index = max_values_per_dt['timestamp'] \n",
    "df=max_values_per_dt.drop('municipality_id',1) \n",
    "ts = df['usage'] \n",
    "plt.figure(figsize=(16,8)) \n",
    "plt.plot(ts, label='Passenger Count') \n",
    "plt.title('Time Series') \n",
    "plt.xlabel(\"Time(year-month)\") \n",
    "plt.ylabel(\"Passenger count\") \n",
    "plt.legend(loc='best')"
   ]
  },
  {
   "cell_type": "code",
   "execution_count": 20,
   "id": "33709978",
   "metadata": {},
   "outputs": [],
   "source": [
    "def create_features(df, label=None):\n",
    "    \"\"\"\n",
    "    Creates time series features from datetime index.\n",
    "    \"\"\"\n",
    "    df = df.copy()\n",
    "    df['timestamp'] = df.index\n",
    "    print(max_values_per_dt.dtypes)\n",
    "    df['hour'] = df['timestamp'].dt.hour\n",
    "    df['dayofweek'] = df['timestamp'].dt.dayofweek\n",
    "    df['quarter'] = df['timestamp'].dt.quarter\n",
    "    df['month'] = df['timestamp'].dt.month\n",
    "    df['year'] = df['timestamp'].dt.year\n",
    "    df['dayofyear'] = df['timestamp'].dt.dayofyear\n",
    "    df['dayofmonth'] = df['timestamp'].dt.day\n",
    "    df['weekofyear'] = df['timestamp'].dt.weekofyear\n",
    "    \n",
    "    X = df[['hour','dayofweek','quarter','month','year',\n",
    "           'dayofyear','dayofmonth','weekofyear']]\n",
    "    if label:\n",
    "        y = df[label]\n",
    "        return X, y\n",
    "    return X\n",
    "\n",
    "X, y = create_features(max_values_per_dt, label='usage')\n",
    "\n",
    "features_and_target = pd.concat([X, y], axis=1)"
   ]
  },
  {
   "cell_type": "code",
   "execution_count": 21,
   "id": "4c31ec59",
   "metadata": {},
   "outputs": [],
   "source": [
    "max_values_per_dt"
   ]
  },
  {
   "cell_type": "code",
   "execution_count": 22,
   "id": "87deb599",
   "metadata": {},
   "outputs": [],
   "source": [
    "sns.pairplot(features_and_target.dropna(),\n",
    "             hue='hour',\n",
    "             x_vars=['hour','dayofweek',\n",
    "                     'year','weekofyear'],\n",
    "             y_vars='usage',\n",
    "             height=5,\n",
    "             plot_kws={'alpha':0.15, 'linewidth':0}\n",
    "            )\n",
    "plt.suptitle('Bus Usage by Hour, Day of Week, Year and Week of Year')\n",
    "plt.show()"
   ]
  },
  {
   "cell_type": "code",
   "execution_count": 23,
   "id": "fe80ac6d",
   "metadata": {},
   "outputs": [],
   "source": [
    "split_date = '2017-08-01 00:00:00'\n",
    "municipality_train = max_values_per_dt.loc[max_values_per_dt.index <= split_date].copy()\n",
    "municipality_test = max_values_per_dt.loc[max_values_per_dt.index > split_date].copy()"
   ]
  },
  {
   "cell_type": "code",
   "execution_count": 24,
   "id": "0380a32c",
   "metadata": {},
   "outputs": [],
   "source": [
    "municipality_train = municipality_train.drop(['timestamp', 'total_capacity', 'year', 'month', 'day', 'Hour', 'weekend', 'municipality_id'], axis=1)\n",
    "municipality_test = municipality_test.drop(['timestamp', 'total_capacity', 'year', 'month', 'day', 'Hour', 'weekend', 'municipality_id'], axis=1)"
   ]
  },
  {
   "cell_type": "code",
   "execution_count": 25,
   "id": "cad62de9",
   "metadata": {},
   "outputs": [],
   "source": [
    "# Plotting train and test so we can see where we have split\n",
    "municipality_test \\\n",
    "    .rename(columns={'usage': 'TEST SET'}) \\\n",
    "    .join(municipality_train.rename(columns={'usage': 'TRAINING SET'}),\n",
    "          how='outer') \\\n",
    "    .plot(figsize=(15,5), title='Municipality 1 Bus Usage', style='.')\n",
    "plt.show()"
   ]
  },
  {
   "cell_type": "code",
   "execution_count": 26,
   "id": "dcefd124",
   "metadata": {},
   "outputs": [],
   "source": [
    "# Format data for prophet model using ds and y since Prophet expects the dataset to be named in a specific way\n",
    "municipality_train.reset_index() \\\n",
    "    .rename(columns={'timestamp':'ds',\n",
    "                     'usage':'y'}).head()"
   ]
  },
  {
   "cell_type": "code",
   "execution_count": 27,
   "id": "2487298d",
   "metadata": {},
   "outputs": [],
   "source": [
    "# Setting up and training model and fitting\n",
    "model = Prophet()\n",
    "model.fit(municipality_train.reset_index() \\\n",
    "              .rename(columns={'timestamp':'ds',\n",
    "                               'usage':'y'}))\n",
    "\n",
    "# Predicting on training set with model\n",
    "municipality_test_fcst = model.predict(df=municipality_test.reset_index() \\\n",
    "                                   .rename(columns={'timestamp':'ds'}))"
   ]
  },
  {
   "cell_type": "code",
   "execution_count": 28,
   "id": "2da56887",
   "metadata": {},
   "outputs": [],
   "source": [
    "# Plotting the forecast\n",
    "f, ax = plt.subplots(1)\n",
    "f.set_figheight(5)\n",
    "f.set_figwidth(15)\n",
    "fig = model.plot(municipality_test_fcst,\n",
    "                 ax=ax)\n",
    "plt.show()"
   ]
  },
  {
   "cell_type": "code",
   "execution_count": 29,
   "id": "864ef2e6",
   "metadata": {},
   "outputs": [],
   "source": [
    "# Plotting the components of the model\n",
    "fig = model.plot_components(municipality_test_fcst)"
   ]
  },
  {
   "cell_type": "code",
   "execution_count": 30,
   "id": "2b505ecf",
   "metadata": {},
   "outputs": [],
   "source": [
    "# Plot the forecast with the actuals\n",
    "f, ax = plt.subplots(1)\n",
    "f.set_figheight(5)\n",
    "f.set_figwidth(15)\n",
    "ax.scatter(municipality_test.index, municipality_test['usage'], color='r')\n",
    "fig = model.plot(municipality_test_fcst, ax=ax)"
   ]
  },
  {
   "cell_type": "code",
   "execution_count": 31,
   "id": "c3d58886",
   "metadata": {},
   "outputs": [],
   "source": [
    "f, ax = plt.subplots(1)\n",
    "f.set_figheight(5)\n",
    "f.set_figwidth(15)\n",
    "ax.scatter(municipality_test.index, municipality_test['usage'], color='r')\n",
    "fig = model.plot(municipality_test_fcst, ax=ax)\n",
    "ax.set_xbound(lower='2017-08-01 00:00:00', upper='2017-08-19 16:30:35')\n",
    "ax.set_ylim(0, 1500)\n",
    "plot = plt.suptitle('Forecast vs Actuals')"
   ]
  },
  {
   "cell_type": "code",
   "execution_count": 32,
   "id": "88bd0a06",
   "metadata": {},
   "outputs": [],
   "source": [
    "def mean_absolute_percentage_error(y_true, y_pred): \n",
    "    y_true, y_pred = np.array(y_true), np.array(y_pred)\n",
    "    return np.mean(np.abs((y_true - y_pred) / y_true)) * 100\n",
    "\n",
    "print(\"MAPE of the Forecast(%): \", mean_absolute_percentage_error(y_true=municipality_test['usage'],\n",
    "                   y_pred=municipality_test_fcst['yhat']))"
   ]
  },
  {
   "cell_type": "code",
   "execution_count": 33,
   "id": "819a58a7",
   "metadata": {},
   "outputs": [],
   "source": [
    "param_grid = {  \n",
    "    'changepoint_prior_scale': [0.001, 0.01, 0.1, 0.5, 1.0],\n",
    "    'seasonality_prior_scale': [0.01, 0.1, 1.0, 10.0],\n",
    "    'holidays_prior_scale': [0.01, 0.1, 1.0, 10.0],\n",
    "    'seasonality_mode': ['additive', 'multiplicative']\n",
    "}\n",
    "mapes = []\n",
    "\n",
    "# Generate all combinations of parameters\n",
    "all_params = [dict(zip(param_grid.keys(), v)) for v in itertools.product(*param_grid.values())]\n",
    "\n",
    "for params in all_params:\n",
    "    m = Prophet(**params).fit(municipality_train.reset_index() \\\n",
    "              .rename(columns={'timestamp':'ds',\n",
    "                               'usage':'y'}))  # Fit model with given params\n",
    "    df_cv = cross_validation(m, horizon='1 hour', parallel=\"processes\")\n",
    "    df_p = performance_metrics(df_cv, rolling_window=1)\n",
    "    mapes.append(df_p['mape'].values[0])\n",
    "\n",
    "# Find the best parameters\n",
    "tuning_results = pd.DataFrame(all_params)\n",
    "tuning_results['mape'] = mapes\n",
    "print(tuning_results)"
   ]
  },
  {
   "cell_type": "code",
   "execution_count": 34,
   "id": "5d58adf3",
   "metadata": {},
   "outputs": [],
   "source": [
    "minvalue = tuning_results['mape'].min()\n",
    "  \n",
    "minvalue"
   ]
  }
 ],
 "metadata": {
  "kernelspec": {
   "display_name": "Python 3 (ipykernel)",
   "language": "python",
   "name": "python3"
  },
  "language_info": {
   "codemirror_mode": {
    "name": "ipython",
    "version": 3
   },
   "file_extension": ".py",
   "mimetype": "text/x-python",
   "name": "python",
   "nbconvert_exporter": "python",
   "pygments_lexer": "ipython3",
   "version": "3.9.13"
  }
 },
 "nbformat": 4,
 "nbformat_minor": 5
}
